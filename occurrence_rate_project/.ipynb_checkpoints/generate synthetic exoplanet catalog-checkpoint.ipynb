{
 "cells": [
  {
   "cell_type": "code",
   "execution_count": null,
   "metadata": {
    "collapsed": true
   },
   "outputs": [],
   "source": [
    "# pseudo-code to make synthetic exoplanet catalog\n",
    "# class makeSyntheticExoplanetCatalog\n",
    "# Inputs \n",
    "#      \n",
    "#      target catalog\n",
    "#           nTargets -- number of target stars\n",
    "#           rTarget  -- target star radius\n",
    "#           rTargetSigma -- 1-sigma errors on rTarget\n",
    "#           mTarget  -- target star mass\n",
    "#           mTargetSigma -- 1 sigma error on mTarget\n",
    "#      nExoplanetsPerTarget -- number of exoplanets per target,\n",
    "#      Period-radius phase space boundaries -- rMin, rMax, pMin, pMax\n",
    "#      Observation window -- tBegin and tEnd\n",
    "#      exoplanetPDF -- a normalized PDF, \n",
    "#           given by either a power law or bin heights in R and P\n",
    "#      detectionContours -- detection contours for each target, \n",
    "#           or averaged over all targets\n",
    "#      radiusBinCenters and periodBinCenters, \n",
    "#           binning scheme for detectionContours\n",
    "#  Returns a catalog of exoplanet detections by the transit method in a survey of the targets in the catalog\n",
    "#      consistent with the assumed exoplanetPDF and nExoplanetsPerTarget. Each entry in the catalog has  \n",
    "#      target star, radius, period, impact parameter and first transit time. \n",
    "#      Planets are assumed to have zero eccentricity.\n",
    "\n",
    "# Method generateExoplanetPopulation\n",
    "#      Inputs\n",
    "#           phase space boundaries in period and radius\n",
    "#           power law shape parameters\n",
    "#           nExoplanetsPerTarget (power law scale parameter)\n",
    "#           nTargets\n",
    "#      Generates an exoplanet population within the given phase space\n",
    "#           boundaries, exoplanetPDF, nTargets and nExoplanetsPerTarget\n",
    "#      Returns radius, period, and inclination for each planet\n",
    "#      Note: circular orbit model needs only 3 parameters\n",
    "#           initial transit time, period, and inclination\n",
    "\n",
    "# Method applyTransitSelection\n",
    "#      Applies geometric constraint to select transiting planets\n",
    "#      Each transiting planet gets a randomly selected\n",
    "#           impact parameter on [0,1] (based on inclination)\n",
    "\n",
    "# Method applyWindowFunction\n",
    "#      Enforces the requirement of three observed transits\n",
    "#      firstTransitTime is randomly chosen to be uniform on [0, period]\n",
    "#      Number of observed transits during [tBegin, tEnd]\n",
    "#           is based on firstTransitTime, period, tBegin and tEnd\n",
    "\n",
    "# Method applyDetectionContours\n",
    "#      Applies detection contour probabilities to\n",
    "#           select detected planets in each bin\n",
    "#           Note that applyDetectionContours subsumes both applyWindowFunction and applyTransitSelection\n",
    "\n",
    "\n"
   ]
  },
  {
   "cell_type": "code",
   "execution_count": null,
   "metadata": {
    "collapsed": true
   },
   "outputs": [],
   "source": []
  }
 ],
 "metadata": {
  "kernelspec": {
   "display_name": "Python 2",
   "language": "python",
   "name": "python2"
  },
  "language_info": {
   "codemirror_mode": {
    "name": "ipython",
    "version": 2
   },
   "file_extension": ".py",
   "mimetype": "text/x-python",
   "name": "python",
   "nbconvert_exporter": "python",
   "pygments_lexer": "ipython2",
   "version": "2.7.11"
  }
 },
 "nbformat": 4,
 "nbformat_minor": 0
}
